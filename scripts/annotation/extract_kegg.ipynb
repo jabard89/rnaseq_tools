{
 "cells": [
  {
   "cell_type": "code",
   "execution_count": null,
   "metadata": {},
   "outputs": [],
   "source": [
    "import pandas as pd\n"
   ]
  },
  {
   "cell_type": "code",
   "execution_count": 1,
   "metadata": {},
   "outputs": [],
   "source": [
    "def retrieve_brite_dict(brite_id):\n",
    "\t\"\"\"\n",
    "\tGiven a brite number, this will return a flat dictionary with every gene in every category\n",
    "\t\"\"\"\n",
    "\timport requests\n",
    "\tBASE = 'https://rest.kegg.jp'\n",
    "\tOPERATION = 'get'\n",
    "\tURL = BASE + '/' + OPERATION + '/br:' + brite_id + '/json'\n",
    "\tresults = requests.get(URL)\n",
    "\tif not results.ok:\n",
    "\t\tprint('Something went wrong in downloading the entry',results.status_code)\n",
    "\tentry = results.json()\n",
    "\tprint('Retreived ' + entry['name'])\n",
    "\treturn(entry)\n",
    "\n",
    "#ribi = retrieve_brite_dict(\"sce03009\")\n",
    "\t\n",
    "def get_all_levels(entry):\n",
    "\t# returns a level_dict where each entry contains the nested dictionary below that level\n",
    "\tcategories = {}\n",
    "\tdef find_levels(l,parent=None):\n",
    "\t\tif 'children' in l.keys():\n",
    "\t\t\tif parent:\n",
    "\t\t\t\tname = parent + '.' + l['name']\n",
    "\t\t\telse:\n",
    "\t\t\t\tname = l['name']\n",
    "\t\t\tcategories[name] = l\n",
    "\t\t\tfor c in l['children']:\n",
    "\t\t\t\tfind_levels(c,name)\n",
    "\tfind_levels(entry)\n",
    "\treturn categories\n",
    "\n",
    "#ribi_dict = get_all_levels(ribi)\n",
    "\n",
    "def get_all_genes(entry):\n",
    "\t# given a dictionary (any item in the dictionary returned by get_all_levels)\n",
    "\t# returns a dataframe containing all the genes in that dictionary\n",
    "\t# including the genes in children\n",
    "\t# check levels using level_dict.keys()\n",
    "\n",
    "\tout_tuples = [] # (ID,KO)\n",
    "\tdef extract_entries(l):\n",
    "\t\tfor c in l['children']:\n",
    "\t\t\tif 'children' in c.keys():\n",
    "\t\t\t\textract_entries(c)\n",
    "\t\t\telse:\n",
    "\t\t\t\ttemp = c['name']\n",
    "\t\t\t\tsplit = temp.split('\\t')\n",
    "\t\t\t\tif len(split)>1:\n",
    "\t\t\t\t\tgene = split[0].split()[0]\n",
    "\t\t\t\t\tko = split[1].split()[0]\n",
    "\t\t\t\t\tout_tuples.append((gene,ko))\n",
    "\textract_entries(entry)\n",
    "\treturn pd.DataFrame(out_tuples,columns=['ORF','KO'])"
   ]
  },
  {
   "cell_type": "code",
   "execution_count": 4,
   "metadata": {},
   "outputs": [
    {
     "name": "stdout",
     "output_type": "stream",
     "text": [
      "Retreived hsa03110\n"
     ]
    },
    {
     "ename": "KeyError",
     "evalue": "'children'",
     "output_type": "error",
     "traceback": [
      "\u001b[0;31m---------------------------------------------------------------------------\u001b[0m",
      "\u001b[0;31mKeyError\u001b[0m                                  Traceback (most recent call last)",
      "Cell \u001b[0;32mIn[4], line 3\u001b[0m\n\u001b[1;32m      1\u001b[0m chaps \u001b[39m=\u001b[39m retrieve_brite_dict(\u001b[39m\"\u001b[39m\u001b[39mhsa03110\u001b[39m\u001b[39m\"\u001b[39m)\n\u001b[1;32m      2\u001b[0m chaps_dict \u001b[39m=\u001b[39m get_all_levels(chaps)\n\u001b[0;32m----> 3\u001b[0m chap_genes \u001b[39m=\u001b[39m get_all_genes(chaps_dict)\n",
      "Cell \u001b[0;32mIn[1], line 53\u001b[0m, in \u001b[0;36mget_all_genes\u001b[0;34m(entry)\u001b[0m\n\u001b[1;32m     51\u001b[0m \t\t\t\tko \u001b[39m=\u001b[39m split[\u001b[39m1\u001b[39m]\u001b[39m.\u001b[39msplit()[\u001b[39m0\u001b[39m]\n\u001b[1;32m     52\u001b[0m \t\t\t\tout_tuples\u001b[39m.\u001b[39mappend((gene,ko))\n\u001b[0;32m---> 53\u001b[0m extract_entries(entry)\n\u001b[1;32m     54\u001b[0m \u001b[39mreturn\u001b[39;00m pd\u001b[39m.\u001b[39mDataFrame(out_tuples,columns\u001b[39m=\u001b[39m[\u001b[39m'\u001b[39m\u001b[39mORF\u001b[39m\u001b[39m'\u001b[39m,\u001b[39m'\u001b[39m\u001b[39mKO\u001b[39m\u001b[39m'\u001b[39m])\n",
      "Cell \u001b[0;32mIn[1], line 43\u001b[0m, in \u001b[0;36mget_all_genes.<locals>.extract_entries\u001b[0;34m(l)\u001b[0m\n\u001b[1;32m     42\u001b[0m \u001b[39mdef\u001b[39;00m \u001b[39mextract_entries\u001b[39m(l):\n\u001b[0;32m---> 43\u001b[0m \t\u001b[39mfor\u001b[39;00m c \u001b[39min\u001b[39;00m l[\u001b[39m'\u001b[39;49m\u001b[39mchildren\u001b[39;49m\u001b[39m'\u001b[39;49m]:\n\u001b[1;32m     44\u001b[0m \t\t\u001b[39mif\u001b[39;00m \u001b[39m'\u001b[39m\u001b[39mchildren\u001b[39m\u001b[39m'\u001b[39m \u001b[39min\u001b[39;00m c\u001b[39m.\u001b[39mkeys():\n\u001b[1;32m     45\u001b[0m \t\t\textract_entries(c)\n",
      "\u001b[0;31mKeyError\u001b[0m: 'children'"
     ]
    }
   ],
   "source": [
    "chaps = retrieve_brite_dict(\"hsa03110\")\n",
    "chaps_dict = get_all_levels(chaps)\n",
    "chap_genes = get_all_genes(chaps_dict)"
   ]
  },
  {
   "cell_type": "code",
   "execution_count": null,
   "metadata": {},
   "outputs": [],
   "source": []
  },
  {
   "cell_type": "code",
   "execution_count": null,
   "metadata": {},
   "outputs": [],
   "source": []
  }
 ],
 "metadata": {
  "kernelspec": {
   "display_name": "py310",
   "language": "python",
   "name": "python3"
  },
  "language_info": {
   "codemirror_mode": {
    "name": "ipython",
    "version": 3
   },
   "file_extension": ".py",
   "mimetype": "text/x-python",
   "name": "python",
   "nbconvert_exporter": "python",
   "pygments_lexer": "ipython3",
   "version": "3.10.6"
  },
  "orig_nbformat": 4
 },
 "nbformat": 4,
 "nbformat_minor": 2
}
